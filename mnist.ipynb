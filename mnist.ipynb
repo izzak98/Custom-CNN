{
 "cells": [
  {
   "cell_type": "code",
   "execution_count": 1,
   "metadata": {},
   "outputs": [],
   "source": [
    "from sklearn.datasets import load_digits\n",
    "from sklearn.model_selection import train_test_split\n",
    "import cupy as np\n",
    "from NN import NeuralNetwork\n",
    "from layers import DenseLayer, FlattenLayer, CnnLayer, MaxPoolingLayer\n",
    "from lossFuncs import sparse_categorical_crossentropy\n",
    "from activationFuncs import relu, softmax\n"
   ]
  },
  {
   "cell_type": "markdown",
   "metadata": {},
   "source": [
    "First load the MNIST dataset. Normalize the data and split it into train and test data."
   ]
  },
  {
   "cell_type": "code",
   "execution_count": 2,
   "metadata": {},
   "outputs": [],
   "source": [
    "X, y = load_digits(return_X_y=True)\n",
    "X = X.reshape(-1, 8, 8, 1)\n",
    "X = X / 255\n",
    "X = np.array(X)\n",
    "y = np.array(y)\n",
    "X_train, X_test, y_train, y_test = train_test_split(X, y, test_size=0.2, random_state=42)"
   ]
  },
  {
   "cell_type": "markdown",
   "metadata": {},
   "source": [
    "Construct the model, the model uses sparse categorical cross entropy as its loss and an activation softmax on the output."
   ]
  },
  {
   "cell_type": "code",
   "execution_count": 3,
   "metadata": {},
   "outputs": [],
   "source": [
    "model = NeuralNetwork((8, 8, 1), lr=0.01, loss=sparse_categorical_crossentropy)\n",
    "model.add_layer(CnnLayer,\n",
    "                kernel_size=(4, 4),\n",
    "                filters=2,\n",
    "                stride=1,\n",
    "                padding=1,\n",
    "                activation=relu,\n",
    "                input_channels=1)\n",
    "model.add_layer(MaxPoolingLayer, pool_size=2, stride=2)\n",
    "model.add_layer(FlattenLayer)\n",
    "model.add_layer(DenseLayer, output_size=10, activation=softmax)"
   ]
  },
  {
   "cell_type": "markdown",
   "metadata": {},
   "source": [
    "Train the model. We chose an epoch, this case 35 that let's the model find a low enough loss without overfitting."
   ]
  },
  {
   "cell_type": "code",
   "execution_count": 4,
   "metadata": {},
   "outputs": [
    {
     "name": "stderr",
     "output_type": "stream",
     "text": [
      "Training: 100%|██████████| 35/35 [28:38<00:00, 49.11s/it, loss=0.394]"
     ]
    },
    {
     "name": "stdout",
     "output_type": "stream",
     "text": [
      "CPU times: total: 7min 13s\n",
      "Wall time: 28min 39s\n"
     ]
    },
    {
     "name": "stderr",
     "output_type": "stream",
     "text": [
      "\n"
     ]
    }
   ],
   "source": [
    "%%time\n",
    "model.train(X_train, y_train, epochs=35, batch_size=100)"
   ]
  },
  {
   "cell_type": "markdown",
   "metadata": {},
   "source": [
    "Evaluate the model using accuracy, precision and recall."
   ]
  },
  {
   "cell_type": "code",
   "execution_count": 5,
   "metadata": {},
   "outputs": [],
   "source": [
    "def report_metrics(y_true, y_pred):\n",
    "    \"\"\"Report accuracy, precision and recall for the model.\"\"\"\n",
    "    predicted_classes = np.argmax(y_pred, axis=1)\n",
    "\n",
    "    true_positives = 0\n",
    "    false_positives = 0\n",
    "    false_negatives = 0\n",
    "    true_negatives = 0\n",
    "\n",
    "    for true_class, pred_class in zip(y_true, predicted_classes):\n",
    "        if pred_class == true_class:\n",
    "            if pred_class == 1:\n",
    "                true_positives += 1\n",
    "            else:\n",
    "                true_negatives += 1\n",
    "        else:\n",
    "            if pred_class == 1:\n",
    "                false_positives += 1\n",
    "            else:\n",
    "                false_negatives += 1\n",
    "\n",
    "    # Calculating metrics\n",
    "    accuracy = (true_positives + true_negatives) / len(y_test)\n",
    "    precision = true_positives / (true_positives + false_positives) \n",
    "    recall = true_positives / (true_positives + false_negatives) \n",
    "    print(f\"Accuracy: {accuracy*100:.2f}%\")\n",
    "    print(f\"Precision: {precision:.2f}\")\n",
    "    print(f\"Recall: {recall:.2f}\")"
   ]
  },
  {
   "cell_type": "code",
   "execution_count": 6,
   "metadata": {},
   "outputs": [
    {
     "name": "stdout",
     "output_type": "stream",
     "text": [
      "Accuracy: 81.94%\n",
      "Precision: 0.74\n",
      "Recall: 0.22\n",
      "CPU times: total: 2.36 s\n",
      "Wall time: 10.8 s\n"
     ]
    }
   ],
   "source": [
    "%%time\n",
    "preds = model(X_test)\n",
    "report_metrics(y_test, preds)"
   ]
  },
  {
   "cell_type": "markdown",
   "metadata": {},
   "source": [
    "The model achieves a high accuracy of 81.94% and a precision of 0.74 on the MNIST dataset, indicating it is effective at identifying true positives and generally reliable when it predicts a digit class. However, the recall of 0.22 suggests it misses a significant number of actual positives, meaning it often fails to identify all instances of the correct digit classes, potentially overlooking many true digit classifications."
   ]
  }
 ],
 "metadata": {
  "kernelspec": {
   "display_name": "base",
   "language": "python",
   "name": "python3"
  },
  "language_info": {
   "codemirror_mode": {
    "name": "ipython",
    "version": 3
   },
   "file_extension": ".py",
   "mimetype": "text/x-python",
   "name": "python",
   "nbconvert_exporter": "python",
   "pygments_lexer": "ipython3",
   "version": "3.11.3"
  }
 },
 "nbformat": 4,
 "nbformat_minor": 2
}
