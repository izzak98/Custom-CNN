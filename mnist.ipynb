{
 "cells": [
  {
   "cell_type": "code",
   "execution_count": 1,
   "metadata": {},
   "outputs": [],
   "source": [
    "from sklearn.datasets import load_digits\n",
    "from sklearn.model_selection import train_test_split\n",
    "import cupy as np\n",
    "from NN import NeuralNetwork\n",
    "from layers import DenseLayer, FlattenLayer, CnnLayer, MaxPoolingLayer\n",
    "from lossFuncs import sparse_categorical_crossentropy\n",
    "from activationFuncs import relu, softmax\n"
   ]
  },
  {
   "cell_type": "code",
   "execution_count": 2,
   "metadata": {},
   "outputs": [],
   "source": [
    "X, y = load_digits(return_X_y=True)\n",
    "X = X.reshape(-1, 8, 8, 1)\n",
    "X = X / 255\n",
    "X = np.array(X)\n",
    "y = np.array(y)\n",
    "X_train, X_test, y_train, y_test = train_test_split(X, y, test_size=0.2, random_state=42)"
   ]
  },
  {
   "cell_type": "code",
   "execution_count": 3,
   "metadata": {},
   "outputs": [],
   "source": [
    "model = NeuralNetwork((8, 8, 1), lr=0.01, loss=sparse_categorical_crossentropy)\n",
    "model.add_layer(CnnLayer,\n",
    "                kernel_size=(4, 4),\n",
    "                filters=2,\n",
    "                stride=1,\n",
    "                padding=1,\n",
    "                activation=relu,\n",
    "                input_channels=1)\n",
    "model.add_layer(MaxPoolingLayer, pool_size=2, stride=2)\n",
    "model.add_layer(FlattenLayer)\n",
    "model.add_layer(DenseLayer, output_size=10, activation=softmax)"
   ]
  },
  {
   "cell_type": "code",
   "execution_count": 4,
   "metadata": {},
   "outputs": [
    {
     "name": "stderr",
     "output_type": "stream",
     "text": [
      "Training: 100%|██████████| 35/35 [29:09<00:00, 49.98s/it, loss=0.356]\n"
     ]
    }
   ],
   "source": [
    "model.train(X_train, y_train, epochs=35, batch_size=100)"
   ]
  },
  {
   "cell_type": "code",
   "execution_count": 60,
   "metadata": {},
   "outputs": [],
   "source": [
    "def report_metrics(y_true, y_pred):\n",
    "    predicted_classes = np.argmax(y_pred, axis=1)\n",
    "    \n",
    "    # Initialize variables to calculate precision and recall\n",
    "    true_positives = 0\n",
    "    false_positives = 0\n",
    "    false_negatives = 0\n",
    "    true_negatives = 0\n",
    "\n",
    "    # Compute TP, FP, FN, TN\n",
    "    for true_class, pred_class in zip(y_true, predicted_classes):\n",
    "        if pred_class == true_class:\n",
    "            if pred_class == 1:\n",
    "                true_positives += 1\n",
    "            else:\n",
    "                true_negatives += 1\n",
    "        else:\n",
    "            if pred_class == 1:\n",
    "                false_positives += 1\n",
    "            else:\n",
    "                false_negatives += 1\n",
    "\n",
    "    # Calculating metrics\n",
    "    accuracy = (true_positives + true_negatives) / len(y_test)\n",
    "    precision = true_positives / (true_positives + false_positives) if (true_positives + false_positives) > 0 else 0\n",
    "    recall = true_positives / (true_positives + false_negatives) if (true_positives + false_negatives) > 0 else 0\n",
    "    print(f\"Accuracy: {accuracy*100:.2f}%\")\n",
    "    print(f\"Precision: {precision:.2f}\")\n",
    "    print(f\"Recall: {recall:.2f}\")"
   ]
  },
  {
   "cell_type": "code",
   "execution_count": 61,
   "metadata": {},
   "outputs": [
    {
     "name": "stdout",
     "output_type": "stream",
     "text": [
      "Accuracy: 87.78%\n",
      "Precision: 0.91\n",
      "Recall: 0.32\n"
     ]
    }
   ],
   "source": [
    "preds = model(X_test)\n",
    "report_metrics(y_test, preds)"
   ]
  },
  {
   "cell_type": "code",
   "execution_count": 50,
   "metadata": {},
   "outputs": [],
   "source": [
    "from PIL import Image\n",
    "import os\n",
    "def load_images_to_array(image_folder):\n",
    "    \"\"\"load images from a folder into a numpy array\"\"\"\n",
    "    image_files = [os.path.join(image_folder, file) for file in os.listdir(image_folder) if file.endswith(('.png', '.jpg', '.jpeg'))]\n",
    "    images = []\n",
    "    labels = []\n",
    "    \n",
    "    for image_file in image_files:\n",
    "        with Image.open(image_file) as img:\n",
    "            img = img.convert('L')  # Convert to greyscale\n",
    "            images.append(np.array(img))\n",
    "            labels.append(int(image_file.split(os.sep)[-1].split(\".\")[0]))\n",
    "    \n",
    "    return np.array(images), np.array(labels)"
   ]
  },
  {
   "cell_type": "code",
   "execution_count": 54,
   "metadata": {},
   "outputs": [],
   "source": [
    "image_folder = 'pseudo-mnist'\n",
    "loaded_images, labels = load_images_to_array(image_folder)\n",
    "loaded_images = (1-loaded_images.reshape(-1, 8, 8, 1))/255"
   ]
  },
  {
   "cell_type": "code",
   "execution_count": 62,
   "metadata": {},
   "outputs": [
    {
     "name": "stdout",
     "output_type": "stream",
     "text": [
      "Accuracy: 0.83%\n",
      "Precision: 0.17\n",
      "Recall: 0.33\n"
     ]
    }
   ],
   "source": [
    "pseudo_preds = model(loaded_images)\n",
    "report_metrics(labels, pseudo_preds)"
   ]
  },
  {
   "cell_type": "code",
   "execution_count": null,
   "metadata": {},
   "outputs": [],
   "source": []
  }
 ],
 "metadata": {
  "kernelspec": {
   "display_name": "base",
   "language": "python",
   "name": "python3"
  },
  "language_info": {
   "codemirror_mode": {
    "name": "ipython",
    "version": 3
   },
   "file_extension": ".py",
   "mimetype": "text/x-python",
   "name": "python",
   "nbconvert_exporter": "python",
   "pygments_lexer": "ipython3",
   "version": "3.11.3"
  }
 },
 "nbformat": 4,
 "nbformat_minor": 2
}
